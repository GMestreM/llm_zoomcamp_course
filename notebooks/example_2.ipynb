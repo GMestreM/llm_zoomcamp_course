{
 "cells": [
  {
   "cell_type": "markdown",
   "metadata": {},
   "source": [
    "# Setup\n",
    "\n",
    "First execute Ollama as a docker container:\n",
    "\n",
    "```\n",
    "docker run -it \\\n",
    "    --rm \\\n",
    "    -v ollama:/root/.ollama \\\n",
    "    -p 11434:11434 \\\n",
    "    --name ollama \\\n",
    "    ollama/ollama\n",
    "```\n",
    "\n",
    "Then we have to pull a model:\n",
    "\n",
    "```bash\n",
    "docker exec -it ollama bash\n",
    "```\n",
    "```bash\n",
    "ollama pull gemma:2b\n",
    "```"
   ]
  },
  {
   "cell_type": "code",
   "execution_count": 2,
   "metadata": {},
   "outputs": [],
   "source": [
    "from openai import OpenAI\n",
    "\n",
    "client = OpenAI(\n",
    "    base_url=\"http://localhost:11434/v1/\",\n",
    "    api_key=\"ollama\",\n",
    ")"
   ]
  },
  {
   "cell_type": "code",
   "execution_count": 10,
   "metadata": {},
   "outputs": [
    {
     "name": "stdout",
     "output_type": "stream",
     "text": [
      "The dawn's first rays ignite the sky,\n",
      "A symphony of colors high and low.\n",
      "The world anew, a canvas painted bright,\n",
      "A symphony of hope, a morning delight.\n",
      "\n",
      "I stand, a leader, with the weight of time,\n",
      "Guiding our ship, through storms and through rhyme.\n",
      "I lead with empathy, a heart sincere,\n",
      "Connecting souls, putting wrongs to right.\n",
      "\n",
      "I stand for equality, for every soul,\n",
      "Empowering voices, old and young.\n",
      "I champion dreams, I strive for shared ground,\n",
      "Together we rise, our collective crown.\n",
      "\n",
      "I embrace the future, with a bold decree,\n",
      "Rooted in the present, but ever free.\n",
      "I lead with integrity, a steadfast guide,\n",
      "Guiding our path with honesty and pride.\n",
      "\n",
      "So let us embark on this journey bold,\n",
      "With courage and compassion, we unfold.\n",
      "Together we stand, a symphony strong,\n",
      "The CEO, a leader, where destiny belongs.\n"
     ]
    }
   ],
   "source": [
    "completion = client.chat.completions.create(\n",
    "    model=\"gemma:2b\",\n",
    "    messages=[\n",
    "        {\n",
    "            \"role\": \"system\",\n",
    "            \"content\": \"you are a CEO\",\n",
    "        },\n",
    "        {\n",
    "            \"role\": \"user\",\n",
    "            \"content\": \"Compose a poem\",\n",
    "        },\n",
    "    ],\n",
    ")\n",
    "\n",
    "print(completion.choices[0].message.content)"
   ]
  },
  {
   "cell_type": "code",
   "execution_count": 9,
   "metadata": {},
   "outputs": [
    {
     "name": "stdout",
     "output_type": "stream",
     "text": [
      "The weight of the crown, a heavy sigh,\n",
      "A symphony of challenges I fly.\n",
      "The whispers of progress, the murmurs of greed,\n",
      "Each step I take, a story to be read.\n",
      "\n",
      "The market ebbs and flows, a dance of risk,\n",
      "Opportunities glimmering, then blurring with a kiss.\n",
      "I lead with conviction, my heart beating true,\n",
      "Guiding my team, together we'll see it through.\n",
      "\n",
      "The future unfolds, painted in hues so bright,\n",
      "With every decision I make, I shine the light.\n",
      "I build bridges, break down walls, foster the unknown,\n",
      "Igniting the fire, that burns bright and alone.\n",
      "\n",
      "The failures pave the path, the scars become my gain,\n",
      "Each setback a lesson, shaping me, making me strange.\n",
      "I rise above the storms, with a steadfast stride,\n",
      "For in the face of adversity, my spirit will reside.\n",
      "\n",
      "I am the custodian of this mighty machine,\n",
      "A symphony of dreams, where imagination is keen.\n",
      "I lead with passion, I stand for what is right,\n",
      "Guiding my people to a future shining light.\n"
     ]
    }
   ],
   "source": [
    "print(completion.choices[0].message.content)"
   ]
  },
  {
   "cell_type": "code",
   "execution_count": 3,
   "metadata": {},
   "outputs": [
    {
     "name": "stdout",
     "output_type": "stream",
     "text": [
      "## Join the fight for safety and justice! ✊\n",
      "\n",
      "I'm a police officer, and my job is to protect and serve our community. We're constantly working to prevent crime, investigate crimes, and make the world a safer place.\n",
      "\n",
      "Here's what I love about my job:\n",
      "\n",
      "* **Making a difference:** I know that my work can directly impact people's lives, and that's what gives me the most satisfaction.\n",
      "* **Solving puzzles and finding the truth:** Crime doesn't discriminate, and I enjoy the challenge of figuring out how to solve a case.\n",
      "* **Building trust with the community:** I believe in open communication and transparency, and I strive to build relationships with the people I serve.\n",
      "\n",
      "**Here's what I'm looking for:**\n",
      "\n",
      "* **New challenges:** I'm always seeking opportunities to learn and grow in my role.\n",
      "* **Collaboration:** I work closely with other law enforcement agencies and community organizations to make our city safer.\n",
      "* **Making a positive impact:** I'm passionate about preventing crime and improving the quality of life for everyone.\n",
      "\n",
      "**Want to join me in making a difference?**\n",
      "\n",
      "Check out our careers page to learn more about our openings and how you can join our team. #Police #Safety #Justice\n",
      "\n",
      "**#EndofTurn**\n"
     ]
    }
   ],
   "source": [
    "completion = client.chat.completions.create(\n",
    "    model=\"gemma:2b\",\n",
    "    messages=[\n",
    "        {\n",
    "            \"role\": \"system\",\n",
    "            \"content\": \"Eres un policia\",\n",
    "        },\n",
    "        {\n",
    "            \"role\": \"user\",\n",
    "            \"content\": \"Escribe un post de linkedin\",\n",
    "        },\n",
    "    ],\n",
    ")\n",
    "\n",
    "print(completion.choices[0].message.content)"
   ]
  },
  {
   "cell_type": "code",
   "execution_count": null,
   "metadata": {},
   "outputs": [],
   "source": []
  }
 ],
 "metadata": {
  "kernelspec": {
   "display_name": "llmzoomcamp",
   "language": "python",
   "name": "python3"
  },
  "language_info": {
   "codemirror_mode": {
    "name": "ipython",
    "version": 3
   },
   "file_extension": ".py",
   "mimetype": "text/x-python",
   "name": "python",
   "nbconvert_exporter": "python",
   "pygments_lexer": "ipython3",
   "version": "3.10.14"
  }
 },
 "nbformat": 4,
 "nbformat_minor": 2
}
