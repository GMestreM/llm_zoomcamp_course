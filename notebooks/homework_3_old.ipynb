{
 "cells": [
  {
   "cell_type": "code",
   "execution_count": 1,
   "id": "6f9820c0-1942-4597-8e6c-d98610ee35ce",
   "metadata": {},
   "outputs": [
    {
     "name": "stderr",
     "output_type": "stream",
     "text": [
      "/opt/conda/lib/python3.12/site-packages/tqdm/auto.py:21: TqdmWarning: IProgress not found. Please update jupyter and ipywidgets. See https://ipywidgets.readthedocs.io/en/stable/user_install.html\n",
      "  from .autonotebook import tqdm as notebook_tqdm\n"
     ]
    }
   ],
   "source": [
    "import os\n",
    "import json\n",
    "\n",
    "from sentence_transformers import SentenceTransformer\n",
    "from elasticsearch import Elasticsearch"
   ]
  },
  {
   "cell_type": "markdown",
   "id": "6d3e32b4-bce1-4dfa-bd6f-d7dc3c97fcd8",
   "metadata": {},
   "source": [
    "## Homework: Vector Search\n",
    "\n",
    "In this homework, we'll implement an end to end semantic search engine\n",
    "\n",
    "> It's possible that your answers won't match exactly. If it's the case, select the closest one.\n",
    "\n",
    "## Q1. Prepare Documents\n",
    "\n",
    "Import documents.json, read the file and prepare the dataset:\n",
    "\n",
    "```bash\n",
    "import json\n",
    "\n",
    "with open('documents.json', 'rt') as f_in:\n",
    "    docs_raw = json.load(f_in)\n",
    "\n",
    "documents = []\n",
    "\n",
    "for course_dict in docs_raw:\n",
    "    for doc in course_dict['documents']:\n",
    "        doc['course'] = course_dict['course']\n",
    "        documents.append(doc)\n",
    "\n",
    "len(documents)\n",
    "```\n",
    "How many records we have in the pre-processed \"documents\"?\n",
    "* 1000\n",
    "* 1051\n",
    "* 901\n",
    "* 948"
   ]
  },
  {
   "cell_type": "markdown",
   "id": "43f4b7eb-fd0d-487f-93bb-3a555249ca3a",
   "metadata": {},
   "source": [
    "### Answer\n",
    "\n",
    "If we follow those instructions, we obtain a lenght of `948`.\n",
    "\n",
    "To download file `documents.json` (stored in `https://github.com/DataTalksClub/llm-zoomcamp/blob/main/01-intro/documents.json?raw=1`) we execute this command in the terminal (located on the root folder of the project)\n",
    "\n",
    "```bash\n",
    "wget -c https://github.com/DataTalksClub/llm-zoomcamp/blob/main/01-intro/documents.json?raw=1 -O data/documents.json\n",
    "```"
   ]
  },
  {
   "cell_type": "code",
   "execution_count": 2,
   "id": "8a7b7c01-7cfb-4e6f-9bf0-c76e87f6adfb",
   "metadata": {},
   "outputs": [
    {
     "data": {
      "text/plain": [
       "948"
      ]
     },
     "execution_count": 2,
     "metadata": {},
     "output_type": "execute_result"
    }
   ],
   "source": [
    "data_dir = os.path.join(\"..\", \"data\")\n",
    "\n",
    "with open(os.path.join(data_dir, \"documents.json\"), \"rt\") as f_in:\n",
    "    docs_raw = json.load(f_in)\n",
    "\n",
    "documents = []\n",
    "\n",
    "for course_dict in docs_raw:\n",
    "    for doc in course_dict[\"documents\"]:\n",
    "        doc[\"course\"] = course_dict[\"course\"]\n",
    "        documents.append(doc)\n",
    "\n",
    "len(documents)"
   ]
  },
  {
   "cell_type": "markdown",
   "id": "a9b1fdba-2c44-459e-8ae4-37b7c481c63f",
   "metadata": {},
   "source": [
    "## Q2. Create Embeddings using Pretrained Models\n",
    "\n",
    "Import sentence transformer library. Please review the Sentence Transformer pretrained documentation here: https://www.sbert.net/docs/sentence_transformer/pretrained_models.html#model-overview\n",
    "\n",
    "```bash\n",
    "# This is a new library compared to the previous modules. \n",
    "# Please perform \"pip install sentence_transformers==2.7.0\"\n",
    "\n",
    "from sentence_transformers import SentenceTransformer\n",
    "\n",
    "# if you get an error do the following:\n",
    "# 1. Uninstall numpy \n",
    "# 2. Uninstall torch\n",
    "# 3. pip install numpy==1.26.4\n",
    "# 4. pip install torch\n",
    "# run the above cell, it should work\n",
    "model = SentenceTransformer(\"all-MiniLM-L12-v2\")\n",
    "\n",
    "```\n",
    "\n",
    "What is the model size (in MB) and average performance?\n",
    "\n",
    "* [420, 63.30]\n",
    "* [120, 59.76]\n",
    "* [290, 59.84]\n",
    "* [420, 51.72]\n"
   ]
  },
  {
   "cell_type": "markdown",
   "id": "a3e1a8bf-9728-4bab-a519-6e5d139b27a1",
   "metadata": {},
   "source": [
    "### Answer\n",
    "\n",
    "If we go to the [Sentence Transformer documentation](https://www.sbert.net/docs/sentence_transformer/pretrained_models.html#model-overview) and search for `all-MiniLM-L12-v2` we can see that the model size is `120 MB` and its average performance is `59.76`. So the answer is `[120, 59.76]`"
   ]
  },
  {
   "cell_type": "markdown",
   "id": "2fcc5307-5ac2-4a2c-9227-410105cdbb32",
   "metadata": {},
   "source": [
    "## Q3. Get the dimension for model embedding\n",
    "\n",
    "\n",
    "```python\n",
    "len(model.encode(\"This is a simple sentence\"))\n",
    "```\n",
    "\n",
    "What is the dimension of the model embedding?\n",
    "\n",
    "* 768\n",
    "* 265\n",
    "* 384\n",
    "* 1056"
   ]
  },
  {
   "cell_type": "code",
   "execution_count": 4,
   "id": "fff62ee8-7438-49c3-8aed-03293e734a53",
   "metadata": {},
   "outputs": [
    {
     "data": {
      "text/plain": [
       "384"
      ]
     },
     "execution_count": 4,
     "metadata": {},
     "output_type": "execute_result"
    }
   ],
   "source": [
    "model = SentenceTransformer(\"all-MiniLM-L12-v2\")\n",
    "len(model.encode(\"This is a simple sentence\"))"
   ]
  },
  {
   "cell_type": "markdown",
   "id": "463f63ff-cfcd-4e84-99ae-9fb7f2a62705",
   "metadata": {},
   "source": [
    "### Answer\n",
    "\n",
    "The answer is `384`"
   ]
  },
  {
   "cell_type": "markdown",
   "id": "1ec0484b-0a09-4d0c-95fc-0eeffdb774a8",
   "metadata": {},
   "source": [
    "## Q4: Create Mappings and Index\n",
    "\n",
    "```bash\n",
    "#created the dense vector using the pre-trained model\n",
    "operations = []\n",
    "for doc in documents:\n",
    "    # Transforming the title into an embedding using the model\n",
    "    doc[\"question_vector\"] = model.encode(doc[\"question\"]).tolist()\n",
    "    operations.append(doc)\n",
    "```\n",
    "\n",
    "Establish connection to Elasticsearch \n",
    "\n",
    "```bash\n",
    "from elasticsearch import Elasticsearch\n",
    "es_client = Elasticsearch('http://localhost:9200') \n",
    "\n",
    "es_client.info()\n",
    "```\n",
    "\n",
    "In the mappings, change \"section\" to \"keyword\" type\n",
    "\n",
    "```bash\n",
    "index_settings = {\n",
    "    \"settings\": {\n",
    "        \"number_of_shards\": 1,\n",
    "        \"number_of_replicas\": 0\n",
    "    },\n",
    "    \"mappings\": {\n",
    "        \"properties\": {\n",
    "            \"text\": {\"type\": \"text\"},\n",
    "            \"section\": {\"type\": \"keyword\"},\n",
    "            \"question\": {\"type\": \"text\"},\n",
    "            \"course\": {\"type\": \"keyword\"} ,\n",
    "            \"question_vector\":{\"type\":\"dense_vector\",\"dims\": 384,\"index\":True,\"similarity\": \"cosine\"\n",
    "        },\n",
    "        }\n",
    "    }\n",
    "}\n",
    "\n",
    "index_name = \"course-questions\"\n",
    "\n",
    "es_client.indices.delete(index=index_name, ignore_unavailable=True)\n",
    "es_client.indices.create(index=index_name, body=index_settings)\n",
    "```\n",
    "\n",
    "Add documents into index\n",
    "\n",
    "```bash\n",
    "for doc in operations:\n",
    "    try:\n",
    "        es_client.index(index=index_name, document=doc)\n",
    "    except Exception as e:\n",
    "        print(e)\n",
    "```\n",
    "\n",
    "In the es_client.indices.delete statement, what does \"ignore_unavailable\" mean?\n",
    "* If the pre-trained model in unavailable, skip this statement\n",
    "* If the index is unavailable, skip this statement\n",
    "* If the pre-trained model in unavailable, don't skip this statement\n",
    "* If the index is unavailable, don't skip this statement"
   ]
  },
  {
   "cell_type": "markdown",
   "id": "38fbad08-2966-4324-98cf-81430960d579",
   "metadata": {},
   "source": [
    "### Answer\n",
    "\n",
    "As stated in [this course video](https://youtu.be/ptByfB_YcEg?si=cXt0NnN5DkLkvmcL&t=1023), including parameter `ignore_unavailable=True` means that if the index we are trying to delete doesn't exists, that statement will be skipped.\n",
    "\n",
    "The answer is `If the index is unavailable, skip this statement`"
   ]
  },
  {
   "cell_type": "markdown",
   "id": "8a4e6178-3b31-427c-92d8-77fca6ee80fe",
   "metadata": {},
   "source": [
    "We will run elasticsearch container using this command\n",
    "\n",
    "```bash\n",
    "docker run -it \\\n",
    "    --rm \\\n",
    "    --name elasticsearch \\\n",
    "    -m 4GB \\\n",
    "    -p 9200:9200 \\\n",
    "    -p 9300:9300 \\\n",
    "    -e \"discovery.type=single-node\" \\\n",
    "    -e \"xpack.security.enabled=false\" \\\n",
    "    docker.elastic.co/elasticsearch/elasticsearch:8.4.3\n",
    "```\n",
    "\n",
    "and then apply the embedding to our documents, and create an index in our elasticsearch service"
   ]
  },
  {
   "cell_type": "code",
   "execution_count": 5,
   "id": "62f85870-84af-4db7-b7b6-20f2a2f34379",
   "metadata": {},
   "outputs": [],
   "source": [
    "# created the dense vector using the pre-trained model\n",
    "operations = []\n",
    "for doc in documents:\n",
    "    # Transforming the title into an embedding using the model\n",
    "    doc[\"question_vector\"] = model.encode(doc[\"question\"]).tolist()\n",
    "    operations.append(doc)"
   ]
  },
  {
   "cell_type": "code",
   "execution_count": 6,
   "id": "4f9cd25c-7091-4cfb-a81f-ae24f8a4c6b0",
   "metadata": {},
   "outputs": [
    {
     "data": {
      "text/plain": [
       "ObjectApiResponse({'name': '3d83da542da6', 'cluster_name': 'docker-cluster', 'cluster_uuid': 'wZdxlchNTPySz8MHEbo0Lg', 'version': {'number': '8.4.3', 'build_flavor': 'default', 'build_type': 'docker', 'build_hash': '42f05b9372a9a4a470db3b52817899b99a76ee73', 'build_date': '2022-10-04T07:17:24.662462378Z', 'build_snapshot': False, 'lucene_version': '9.3.0', 'minimum_wire_compatibility_version': '7.17.0', 'minimum_index_compatibility_version': '7.0.0'}, 'tagline': 'You Know, for Search'})"
      ]
     },
     "execution_count": 6,
     "metadata": {},
     "output_type": "execute_result"
    }
   ],
   "source": [
    "# Now connect to elasticsearch\n",
    "es_client = Elasticsearch(\"http://localhost:9200\")\n",
    "\n",
    "es_client.info()"
   ]
  },
  {
   "cell_type": "code",
   "execution_count": 8,
   "id": "d2cbd180-1f49-40c3-a8e4-cb0b3bf70e42",
   "metadata": {},
   "outputs": [
    {
     "data": {
      "text/plain": [
       "ObjectApiResponse({'acknowledged': True, 'shards_acknowledged': True, 'index': 'course-questions'})"
      ]
     },
     "execution_count": 8,
     "metadata": {},
     "output_type": "execute_result"
    }
   ],
   "source": [
    "# In the mappings, change \"section\" to \"keyword\" type\n",
    "index_settings = {\n",
    "    \"settings\": {\"number_of_shards\": 1, \"number_of_replicas\": 0},\n",
    "    \"mappings\": {\n",
    "        \"properties\": {\n",
    "            \"text\": {\"type\": \"text\"},\n",
    "            \"section\": {\"type\": \"keyword\"},\n",
    "            \"question\": {\"type\": \"text\"},\n",
    "            \"course\": {\"type\": \"keyword\"},\n",
    "            \"question_vector\": {\n",
    "                \"type\": \"dense_vector\",\n",
    "                \"dims\": 384,\n",
    "                \"index\": True,\n",
    "                \"similarity\": \"cosine\",\n",
    "            },\n",
    "        }\n",
    "    },\n",
    "}\n",
    "\n",
    "index_name = \"course-questions\"\n",
    "\n",
    "es_client.indices.delete(index=index_name, ignore_unavailable=True)\n",
    "es_client.indices.create(index=index_name, body=index_settings)"
   ]
  },
  {
   "cell_type": "code",
   "execution_count": 9,
   "id": "3ec43b24-002e-4f6f-8b04-630f8b582538",
   "metadata": {},
   "outputs": [],
   "source": [
    "# Add documents into index\n",
    "for doc in operations:\n",
    "    try:\n",
    "        es_client.index(index=index_name, document=doc)\n",
    "    except Exception as e:\n",
    "        print(e)"
   ]
  },
  {
   "cell_type": "markdown",
   "id": "89573a2e-afcb-4ca2-b407-0ca68607c2bc",
   "metadata": {},
   "source": [
    "## Q5: Create end user query and perform semantic search\n",
    "\n",
    "Use the search term \"how to enrol to course?\" and perform semantic search\n",
    "\n",
    "```bash\n",
    "search_term = \"how to enrol to course?\"\n",
    "vector_search_term = model.encode(search_term)\n",
    "\n",
    "query = {\n",
    "    \"field\" : \"question_vector\",\n",
    "    \"query_vector\" :  vector_search_term,\n",
    "    \"k\" : 5,\n",
    "    \"num_candidates\" : 10000, \n",
    "}\n",
    "\n",
    "res = es_client.search(index=index_name, knn=query,source=[\"text\",\"section\",\"question\",\"course\"])\n",
    "res[\"hits\"][\"hits\"]\n",
    "\n",
    "```\n",
    "What is the similarity score, section and course for the first result?\n",
    "\n",
    "* [0.78, 'Module 1: Introduction', 'mlops-zoomcamp']\n",
    "* [0.74, 'General course-related questions', 'data-engineering-zoomcamp']\n",
    "* [0.72, 'Projects (Midterm and Capstone)', 'machine-learning-zoomcamp']\n",
    "* [0.71, 'General course-related questions', 'machine-learning-zoomcamp']"
   ]
  },
  {
   "cell_type": "code",
   "execution_count": 10,
   "id": "84a82f98-deff-4eba-8bb7-cb1afb904ccd",
   "metadata": {},
   "outputs": [
    {
     "data": {
      "text/plain": [
       "[{'_index': 'course-questions',\n",
       "  '_id': 'wAXsjZAB9_D20czfcmBV',\n",
       "  '_score': 0.852048,\n",
       "  '_source': {'question': 'Course - What are the prerequisites for this course?',\n",
       "   'course': 'data-engineering-zoomcamp',\n",
       "   'section': 'General course-related questions',\n",
       "   'text': 'GitHub - DataTalksClub data-engineering-zoomcamp#prerequisites'}},\n",
       " {'_index': 'course-questions',\n",
       "  '_id': '4QXsjZAB9_D20czfdGDo',\n",
       "  '_score': 0.8381672,\n",
       "  '_source': {'question': 'How can we contribute to the course?',\n",
       "   'course': 'data-engineering-zoomcamp',\n",
       "   'section': 'General course-related questions',\n",
       "   'text': 'Star the repo! Share it with friends if you find it useful ❣️\\nCreate a PR if you see you can improve the text or the structure of the repository.'}},\n",
       " {'_index': 'course-questions',\n",
       "  '_id': 'gwXsjZAB9_D20czflWJS',\n",
       "  '_score': 0.8284229,\n",
       "  '_source': {'question': 'I just joined. What should I do next? How can I access course materials?',\n",
       "   'course': 'machine-learning-zoomcamp',\n",
       "   'section': 'General course-related questions',\n",
       "   'text': 'Welcome to the course! Go to the course page (http://mlzoomcamp.com/), scroll down and start going through the course materials. Then read everything in the cohort folder for your cohort’s year.\\nClick on the links and start watching the videos. Also watch office hours from previous cohorts. Go to DTC youtube channel and click on Playlists and search for {course yyyy}. ML Zoomcamp was first launched in 2021.\\nOr you can just use this link: http://mlzoomcamp.com/#syllabus'}},\n",
       " {'_index': 'course-questions',\n",
       "  '_id': 'wwXsjZAB9_D20czfcmCU',\n",
       "  '_score': 0.8260866,\n",
       "  '_source': {'question': 'Course - What can I do before the course starts?',\n",
       "   'course': 'data-engineering-zoomcamp',\n",
       "   'section': 'General course-related questions',\n",
       "   'text': 'You can start by installing and setting up all the dependencies and requirements:\\nGoogle cloud account\\nGoogle Cloud SDK\\nPython 3 (installed with Anaconda)\\nTerraform\\nGit\\nLook over the prerequisites and syllabus to see if you are comfortable with these subjects.'}},\n",
       " {'_index': 'course-questions',\n",
       "  '_id': 'WgXsjZAB9_D20czfkmI2',\n",
       "  '_score': 0.8101876,\n",
       "  '_source': {'question': 'Edit Course Profile.',\n",
       "   'course': 'data-engineering-zoomcamp',\n",
       "   'section': 'Workshop 1 - dlthub',\n",
       "   'text': 'The display name listed on the leaderboard is an auto-generated randomized name. You can edit it to be a nickname, or your real name, if you prefer. Your entry on the Leaderboard is the one highlighted in teal(?) / light green (?).\\nThe Certificate name should be your actual name that you want to appear on your certificate after completing the course.\\nThe \"Display on Leaderboard\" option indicates whether you want your name to be listed on the course leaderboard.\\nQuestion: Is it possible to create external tables in BigQuery using URLs, such as those from the NY Taxi data website?\\nAnswer: Not really, only Bigtable, Cloud Storage, and Google Drive are supported data stores.'}}]"
      ]
     },
     "execution_count": 10,
     "metadata": {},
     "output_type": "execute_result"
    }
   ],
   "source": [
    "search_term = \"how to enrol to course?\"\n",
    "vector_search_term = model.encode(search_term)\n",
    "\n",
    "query = {\n",
    "    \"field\": \"question_vector\",\n",
    "    \"query_vector\": vector_search_term,\n",
    "    \"k\": 5,\n",
    "    \"num_candidates\": 10000,\n",
    "}\n",
    "\n",
    "res = es_client.search(\n",
    "    index=index_name, knn=query, source=[\"text\", \"section\", \"question\", \"course\"]\n",
    ")\n",
    "res[\"hits\"][\"hits\"]"
   ]
  },
  {
   "cell_type": "code",
   "execution_count": 11,
   "id": "dba40bfa-dcbd-4718-bc55-5556e021a077",
   "metadata": {},
   "outputs": [
    {
     "data": {
      "text/plain": [
       "{'_index': 'course-questions',\n",
       " '_id': 'wAXsjZAB9_D20czfcmBV',\n",
       " '_score': 0.852048,\n",
       " '_source': {'question': 'Course - What are the prerequisites for this course?',\n",
       "  'course': 'data-engineering-zoomcamp',\n",
       "  'section': 'General course-related questions',\n",
       "  'text': 'GitHub - DataTalksClub data-engineering-zoomcamp#prerequisites'}}"
      ]
     },
     "execution_count": 11,
     "metadata": {},
     "output_type": "execute_result"
    }
   ],
   "source": [
    "# Just show first result\n",
    "res[\"hits\"][\"hits\"][0]"
   ]
  },
  {
   "cell_type": "code",
   "execution_count": 12,
   "id": "233fc240-b5a8-472d-b363-fb03a3203f9a",
   "metadata": {},
   "outputs": [
    {
     "name": "stdout",
     "output_type": "stream",
     "text": [
      "Score: 0.852048\n",
      "Section: General course-related questions\n",
      "Course: data-engineering-zoomcamp\n"
     ]
    }
   ],
   "source": [
    "print(f\"Score: {res[\"hits\"][\"hits\"][0]['_score']}\")\n",
    "print(f\"Section: {res[\"hits\"][\"hits\"][0]['_source']['section']}\")\n",
    "print(f\"Course: {res[\"hits\"][\"hits\"][0]['_source']['course']}\")"
   ]
  },
  {
   "cell_type": "markdown",
   "id": "0744f349-2eb7-4560-a910-9426b9a12caf",
   "metadata": {},
   "source": [
    "### Answer \n",
    "\n",
    "For the first results, the similarity score obtained is `0.852048`, the section is `General course-related questions` and the course is `data-engineering-zoomcamp`\n",
    "\n",
    "Among these four choices\n",
    "* [0.78, 'Module 1: Introduction', 'mlops-zoomcamp']\n",
    "* [0.74, 'General course-related questions', 'data-engineering-zoomcamp']\n",
    "* [0.72, 'Projects (Midterm and Capstone)', 'machine-learning-zoomcamp']\n",
    "* [0.71, 'General course-related questions', 'machine-learning-zoomcamp']\n",
    "\n",
    "The closest one is `[0.74, 'General course-related questions', 'data-engineering-zoomcamp']` (although the similarity score does not match)"
   ]
  },
  {
   "cell_type": "markdown",
   "id": "ee6d7259-afa7-4083-9a8d-4098b4cd30e6",
   "metadata": {},
   "source": [
    "## Q6: Perform Semantic Search & Filtering\n",
    "\n",
    "Filter the results to \"General course-related questions\" section only\n",
    "\n",
    "```bash\n",
    "knn_query = {\n",
    "    \"field\" : \"text_vector\",\n",
    "    \"query_vector\" :  vector_search_term,\n",
    "    \"k\" : 5,\n",
    "    \"num_candidates\" : 10000\n",
    "}\n",
    "\n",
    "response = es_client.search(\n",
    "    index=index_name,\n",
    "    query={\n",
    "        \"match\": {\n",
    "                \"section\": \"General course-related questions\"\n",
    "            },\n",
    "        },\n",
    "        \n",
    "    knn=knn_query,\n",
    "    size=5\n",
    ")\n",
    "\n",
    "response[\"hits\"][\"hits\"]\n",
    "```\n",
    "Do you see the results filtered only to \"General course-related questions\" section?\n",
    "\n",
    "* Yes\n",
    "* No"
   ]
  },
  {
   "cell_type": "code",
   "execution_count": 13,
   "id": "26bb52a5-cd59-486b-a4be-97b48f884603",
   "metadata": {},
   "outputs": [
    {
     "name": "stdout",
     "output_type": "stream",
     "text": [
      "1 answer\n",
      "Index: course-questions\n",
      "Score: 3.4953291\n",
      "text: GitHub - DataTalksClub data-engineering-zoomcamp#prerequisites\n",
      "section: General course-related questions\n",
      "question: Course - What are the prerequisites for this course?\n",
      "course: data-engineering-zoomcamp\n",
      "\n",
      "\n",
      "2 answer\n",
      "Index: course-questions\n",
      "Score: 3.4814484\n",
      "text: Star the repo! Share it with friends if you find it useful ❣️\n",
      "Create a PR if you see you can improve the text or the structure of the repository.\n",
      "section: General course-related questions\n",
      "question: How can we contribute to the course?\n",
      "course: data-engineering-zoomcamp\n",
      "\n",
      "\n",
      "3 answer\n",
      "Index: course-questions\n",
      "Score: 3.471704\n",
      "text: Welcome to the course! Go to the course page (http://mlzoomcamp.com/), scroll down and start going through the course materials. Then read everything in the cohort folder for your cohort’s year.\n",
      "Click on the links and start watching the videos. Also watch office hours from previous cohorts. Go to DTC youtube channel and click on Playlists and search for {course yyyy}. ML Zoomcamp was first launched in 2021.\n",
      "Or you can just use this link: http://mlzoomcamp.com/#syllabus\n",
      "section: General course-related questions\n",
      "question: I just joined. What should I do next? How can I access course materials?\n",
      "course: machine-learning-zoomcamp\n",
      "\n",
      "\n",
      "4 answer\n",
      "Index: course-questions\n",
      "Score: 3.4693677\n",
      "text: You can start by installing and setting up all the dependencies and requirements:\n",
      "Google cloud account\n",
      "Google Cloud SDK\n",
      "Python 3 (installed with Anaconda)\n",
      "Terraform\n",
      "Git\n",
      "Look over the prerequisites and syllabus to see if you are comfortable with these subjects.\n",
      "section: General course-related questions\n",
      "question: Course - What can I do before the course starts?\n",
      "course: data-engineering-zoomcamp\n",
      "\n",
      "\n",
      "5 answer\n",
      "Index: course-questions\n",
      "Score: 2.6432812\n",
      "text: Yes, the slack channel remains open and you can ask questions there. But always sDocker containers exit code w search the channel first and second, check the FAQ (this document), most likely all your questions are already answered here.\n",
      "You can also tag the bot @ZoomcampQABot to help you conduct the search, but don’t rely on its answers 100%, it is pretty good though.\n",
      "section: General course-related questions\n",
      "question: Course - Can I get support if I take the course in the self-paced mode?\n",
      "course: data-engineering-zoomcamp\n",
      "\n",
      "\n"
     ]
    }
   ],
   "source": [
    "knn_query = {\n",
    "    \"field\": \"question_vector\",  # it has been changed, in statement is said \"text_vector\", but we haven't got any embedding for that field!\n",
    "    \"query_vector\": vector_search_term,\n",
    "    \"k\": 5,\n",
    "    \"num_candidates\": 10000,\n",
    "}\n",
    "\n",
    "response = es_client.search(\n",
    "    index=index_name,\n",
    "    query={\n",
    "        \"match\": {\"section\": \"General course-related questions\"},\n",
    "    },\n",
    "    knn=knn_query,\n",
    "    size=5,\n",
    ")\n",
    "\n",
    "list_section = []\n",
    "\n",
    "for idx, hits in enumerate(response[\"hits\"][\"hits\"]):\n",
    "    print(f\"{idx+1} answer\")\n",
    "    print(f\"Index: {hits['_index']}\")\n",
    "    print(f\"Score: {hits['_score']}\")\n",
    "    print(f\"text: {hits['_source']['text']}\")\n",
    "    print(f\"section: {hits['_source']['section']}\")\n",
    "    print(f\"question: {hits['_source']['question']}\")\n",
    "    print(f\"course: {hits['_source']['course']}\\n\\n\")\n",
    "\n",
    "    list_section.append(hits[\"_source\"][\"section\"])"
   ]
  },
  {
   "cell_type": "code",
   "execution_count": 14,
   "id": "47a607a4-cc6a-4399-a597-401687acc66d",
   "metadata": {},
   "outputs": [
    {
     "name": "stdout",
     "output_type": "stream",
     "text": [
      "{'General course-related questions'}\n"
     ]
    }
   ],
   "source": [
    "print(set(list_section))"
   ]
  },
  {
   "cell_type": "markdown",
   "id": "69345ccb-444e-4163-9de1-74b9215f9b39",
   "metadata": {},
   "source": [
    "### Answer\n",
    "\n",
    "An error has been found in the homework (7th July 2024, 16:01 GMT)\n",
    "\n",
    "The statement of this question says to use this query:\n",
    "```python\n",
    "knn_query = {\n",
    "    \"field\" : \"text_vector\",\n",
    "    \"query_vector\" :  vector_search_term,\n",
    "    \"k\" : 5,\n",
    "    \"num_candidates\" : 10000\n",
    "}\n",
    "```\n",
    "\n",
    "but in this lab we haven't got any embedding for `text_vector` (it does not appear in the elastic search mapping). Hence, I have changed it to `question_vector`, as it's the only embedding we have:\n",
    "\n",
    "```python\n",
    "knn_query = {\n",
    "    \"field\" : \"question_vector\", # it has been changed, in statement is said \"text_vector\", but we haven't got any embedding for that field!\n",
    "    \"query_vector\" :  vector_search_term,\n",
    "    \"k\" : 5,\n",
    "    \"num_candidates\" : 10000\n",
    "}\n",
    "```\n",
    "\n",
    "After running the rest of the code, we see that all 5 top documents are from section `'General course-related questions'`, hence the answer is `Yes`."
   ]
  },
  {
   "cell_type": "markdown",
   "id": "69621cd1-d784-45d4-9188-cd8e31bcb5f5",
   "metadata": {},
   "source": [
    "## Submit the results\n",
    "\n",
    "* Submit your results here: https://courses.datatalks.club/llm-zoomcamp-2024/homework/hw3 (to be created)\n",
    "* It's possible that your answers won't match exactly. If it's the case, select the closest one."
   ]
  }
 ],
 "metadata": {
  "kernelspec": {
   "display_name": "Python 3 (ipykernel)",
   "language": "python",
   "name": "python3"
  },
  "language_info": {
   "codemirror_mode": {
    "name": "ipython",
    "version": 3
   },
   "file_extension": ".py",
   "mimetype": "text/x-python",
   "name": "python",
   "nbconvert_exporter": "python",
   "pygments_lexer": "ipython3",
   "version": "3.12.3"
  }
 },
 "nbformat": 4,
 "nbformat_minor": 5
}
