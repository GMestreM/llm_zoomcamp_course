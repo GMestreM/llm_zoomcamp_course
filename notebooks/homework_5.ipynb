{
 "cells": [
  {
   "cell_type": "markdown",
   "metadata": {},
   "source": [
    "# Homework: LLM Orchestration and Ingestion\n",
    "\n",
    "> It's possible that your answers won't match exactly. If it's the case, select the closest one.\n",
    "\n",
    "Our FAQ documents change with time: students add more records\n",
    "and edit existing ones. We need to keep our index in sync.\n",
    "\n",
    "There are two ways of doing it:\n",
    "\n",
    "1. Incremental: you only update records that got changed, created or deleted\n",
    "2. Full update: you recreate the entire index from scratch\n",
    "\n",
    "In this homework, we'll look at full update. We will run our \n",
    "indexing pipeline daily and re-create the index from scracth \n",
    "each time we run. \n",
    "\n",
    "\n",
    "For that, we created two FAQ documents for LLM Zoomcamp\n",
    "\n",
    "* [version 1](https://docs.google.com/document/d/1qZjwHkvP0lXHiE4zdbWyUXSVfmVGzougDD6N37bat3E/edit)\n",
    "* [version 2](https://docs.google.com/document/d/1T3MdwUvqCL3jrh3d3VCXQ8xE0UqRzI3bfgpfBq3ZWG0/edit)\n",
    "\n",
    "First, we will run our ingestion pipeline with version 1 \n",
    "and then with version 2."
   ]
  },
  {
   "cell_type": "markdown",
   "metadata": {
    "vscode": {
     "languageId": "plaintext"
    }
   },
   "source": [
    "# Q1. Running Mage\n",
    "\n",
    "Clone the same repo we used in the module and run mage:\n",
    "\n",
    "\n",
    "```bash\n",
    "git clone https://github.com/mage-ai/rag-project\n",
    "```\n",
    "\n",
    "Add the following libraries to the requirements document:\n",
    "\n",
    "```\n",
    "python-docx\n",
    "elasticsearch\n",
    "```\n",
    "\n",
    "Make sure you use the latest version of mage:\n",
    "\n",
    "```bash\n",
    "docker pull mageai/mageai:llm\n",
    "```\n",
    "\n",
    "Start it:\n",
    "\n",
    "```bash\n",
    "./scripts/start.sh\n",
    "```\n",
    "\n",
    "Now mage is running on [http://localhost:6789/](http://localhost:6789/)\n",
    "\n",
    "What's the version of mage? "
   ]
  },
  {
   "cell_type": "markdown",
   "metadata": {
    "vscode": {
     "languageId": "plaintext"
    }
   },
   "source": [
    "## Answer"
   ]
  },
  {
   "cell_type": "markdown",
   "metadata": {
    "vscode": {
     "languageId": "plaintext"
    }
   },
   "source": [
    "The version of Mage running is `v0.9.72`"
   ]
  },
  {
   "cell_type": "markdown",
   "metadata": {
    "vscode": {
     "languageId": "plaintext"
    }
   },
   "source": [
    "# Creating a RAG pipeline\n",
    "\n",
    "Create a RAG pipeline\n",
    "\n",
    "# Q2. Reading the documents\n",
    "\n",
    "Now we can ingest the documents. Create a custom code ingestion\n",
    "block \n",
    "\n",
    "Let's read the documents. We will use the same code we used\n",
    "for parsing FAQ: [parse-faq-llm.ipynb](parse-faq-llm.ipynb)\n",
    "\n",
    "\n",
    "Use the following document_id: 1qZjwHkvP0lXHiE4zdbWyUXSVfmVGzougDD6N37bat3E\n",
    "\n",
    "Which is the document ID of\n",
    "[LLM FAQ version 1](https://docs.google.com/document/d/1qZjwHkvP0lXHiE4zdbWyUXSVfmVGzougDD6N37bat3E/edit)\n",
    "\n",
    "Copy the code to the editor\n",
    "How many FAQ documents we processed?\n",
    "\n",
    "* 1\n",
    "* 2\n",
    "* 3\n",
    "* 4\n"
   ]
  },
  {
   "cell_type": "markdown",
   "metadata": {
    "vscode": {
     "languageId": "plaintext"
    }
   },
   "source": [
    "## Answer"
   ]
  },
  {
   "cell_type": "markdown",
   "metadata": {
    "vscode": {
     "languageId": "plaintext"
    }
   },
   "source": [
    "We have processed `1` FAQ document"
   ]
  },
  {
   "cell_type": "markdown",
   "metadata": {
    "vscode": {
     "languageId": "plaintext"
    }
   },
   "source": [
    "# Q3. Chunking\n",
    "\n",
    "We don't really need to do any chuncking because our documents\n",
    "already have well-specified boundaries. So we just need\n",
    "to return the documents without any changes.\n",
    "\n",
    "So let's go to the transformation part and add a custom code\n",
    "chunking block:\n",
    "\n",
    "```python\n",
    "documents = []\n",
    "\n",
    "for doc in data['documents']:\n",
    "    doc['course'] = data['course']\n",
    "    # previously we used just \"id\" for document ID\n",
    "    doc['document_id'] = generate_document_id(doc)\n",
    "    documents.append(doc)\n",
    "\n",
    "print(len(documents))\n",
    "\n",
    "return documents\n",
    "```\n",
    "\n",
    "\n",
    "Where `data` is the input parameter to the transformer.\n",
    "\n",
    "And the `generate_document_id` is defined in the same way\n",
    "as in module 4:\n",
    "\n",
    "```python\n",
    "import hashlib\n",
    "\n",
    "def generate_document_id(doc):\n",
    "    combined = f\"{doc['course']}-{doc['question']}-{doc['text'][:10]}\"\n",
    "    hash_object = hashlib.md5(combined.encode())\n",
    "    hash_hex = hash_object.hexdigest()\n",
    "    document_id = hash_hex[:8]\n",
    "    return document_id\n",
    "```\n",
    "\n",
    "Note: if instead of a single dictionary you get a list, \n",
    "add a for loop:\n",
    "\n",
    "```python\n",
    "for course_dict in data:\n",
    "    ...\n",
    "```\n",
    "\n",
    "You can check the type of `data` with this code:\n",
    "\n",
    "```python\n",
    "print(type(data))\n",
    "```\n",
    "\n",
    "How many documents (chunks) do we have in the output?\n",
    "\n",
    "* 66\n",
    "* 76\n",
    "* 86\n",
    "* 96"
   ]
  },
  {
   "cell_type": "markdown",
   "metadata": {
    "vscode": {
     "languageId": "plaintext"
    }
   },
   "source": [
    "## Answer"
   ]
  },
  {
   "cell_type": "markdown",
   "metadata": {
    "vscode": {
     "languageId": "plaintext"
    }
   },
   "source": [
    "We have `86` documents in the output"
   ]
  },
  {
   "cell_type": "markdown",
   "metadata": {
    "vscode": {
     "languageId": "plaintext"
    }
   },
   "source": [
    "# Tokenization and embeddings\n",
    "\n",
    "We don't need any tokenization, so we skip it.\n",
    "\n",
    "Because currently it's required in mage, we can create \n",
    "a dummy code block:\n",
    "\n",
    "* Create a custom code block\n",
    "* Don't change it\n",
    "\n",
    "Because we will use text search, we also don't need embeddings,\n",
    "so skip it too.\n",
    "\n",
    "If you want to use sentence transformers - the ones from module\n",
    "3 - you don't need tokenization, but need embeddings\n",
    "(you don't need it for this homework)"
   ]
  },
  {
   "cell_type": "markdown",
   "metadata": {
    "vscode": {
     "languageId": "plaintext"
    }
   },
   "source": [
    "# Q4. Export\n",
    "\n",
    "Now we're ready to index the data with elasticsearch. For that,\n",
    "we use the Export part of the pipeline\n",
    "\n",
    "* Go to the Export part\n",
    "* Select vector databases -> Elasticsearch\n",
    "* Open the code for editing\n",
    "\n",
    "Because we won't use vector search, but usual text search, we\n",
    "will need to adjust the code.\n",
    "\n",
    "First, let's change the line where we read the index name:\n",
    "\n",
    "```python\n",
    "index_name = kwargs.get('index_name', 'documents')\n",
    "``` \n",
    "\n",
    "To `index_name_prefix` - we will parametrize it with the day\n",
    "and time we run the pipeline\n",
    "\n",
    "```python\n",
    "from datetime import datetime\n",
    "\n",
    "index_name_prefix = kwargs.get('index_name', 'documents')\n",
    "current_time = datetime.now().strftime(\"%Y%m%d_%M%S\")\n",
    "index_name = f\"{index_name_prefix}_{current_time}\"\n",
    "print(\"index name:\", index_name)\n",
    "```\n",
    "\n",
    "\n",
    "We will need to save the name in a global variable, so it can be accessible in other code blocks\n",
    "\n",
    "```python\n",
    "from mage_ai.data_preparation.variable_manager import set_global_variable\n",
    "\n",
    "set_global_variable('hallowed_automaton', 'index_name', index_name)\n",
    "```\n",
    "\n",
    "Where your pipeline name is the name of the pipeline, e.g.\n",
    "`transcendent_nexus` (replace the space with underscore `_`)\n",
    "\n",
    "\n",
    "\n",
    "Replace index settings with the settings we used previously:\n",
    "\n",
    "```python\n",
    "index_settings = {\n",
    "    \"settings\": {\n",
    "        \"number_of_shards\": number_of_shards,\n",
    "        \"number_of_replicas\": number_of_replicas\n",
    "    },\n",
    "    \"mappings\": {\n",
    "        \"properties\": {\n",
    "            \"text\": {\"type\": \"text\"},\n",
    "            \"section\": {\"type\": \"text\"},\n",
    "            \"question\": {\"type\": \"text\"},\n",
    "            \"course\": {\"type\": \"keyword\"},\n",
    "            \"document_id\": {\"type\": \"keyword\"}\n",
    "        }\n",
    "    }\n",
    "}\n",
    "```\n",
    "\n",
    "Remove the embeddings line:\n",
    "\n",
    "```python\n",
    "if isinstance(document[vector_column_name], np.ndarray):\n",
    "    document[vector_column_name] = document[vector_column_name].tolist()\n",
    "```\n",
    " \n",
    "At the end (outside of the indexing for loop), print the last document:\n",
    "\n",
    "```python\n",
    "        print(document)\n",
    "```\n",
    "\n",
    "Now execute the block.\n",
    "\n",
    "What's the last document id?\n",
    "\n",
    "Also note the index name."
   ]
  },
  {
   "cell_type": "markdown",
   "metadata": {
    "vscode": {
     "languageId": "plaintext"
    }
   },
   "source": [
    "## Answer"
   ]
  },
  {
   "cell_type": "markdown",
   "metadata": {
    "vscode": {
     "languageId": "plaintext"
    }
   },
   "source": [
    "The last document id is `d8c4c7bb` (index name was `documents_20240815_4550`)"
   ]
  },
  {
   "cell_type": "markdown",
   "metadata": {
    "vscode": {
     "languageId": "plaintext"
    }
   },
   "source": [
    "# Q5. Testing the retrieval\n",
    "\n",
    "Now let's test the retrieval. Use mage or jupyter notebook to\n",
    "test it.\n",
    "\n",
    "Let's use the following query: \"When is the next cohort?\"\n",
    "\n",
    "What's the ID of the top matching result?"
   ]
  },
  {
   "cell_type": "markdown",
   "metadata": {
    "vscode": {
     "languageId": "plaintext"
    }
   },
   "source": [
    "## Answer"
   ]
  },
  {
   "cell_type": "markdown",
   "metadata": {
    "vscode": {
     "languageId": "plaintext"
    }
   },
   "source": [
    "The ID of the top matching result is `bf024675`"
   ]
  },
  {
   "cell_type": "markdown",
   "metadata": {
    "vscode": {
     "languageId": "plaintext"
    }
   },
   "source": [
    "# Q6. Reindexing\n",
    "\n",
    "Our FAQ document changes: every day course participants add\n",
    "new records or improve existing ones.\n",
    "\n",
    "Imagine some time passed and the document changed. For that we have another version of the FAQ document: [version 2](https://docs.google.com/document/d/1T3MdwUvqCL3jrh3d3VCXQ8xE0UqRzI3bfgpfBq3ZWG0/edit).\n",
    "\n",
    "The ID of this document is `1T3MdwUvqCL3jrh3d3VCXQ8xE0UqRzI3bfgpfBq3ZWG0`.\n",
    "\n",
    "Let's re-execute the entire pipeline with the updated data.\n",
    "\n",
    "For the same query \"When is the next cohort?\". What's the ID of the top matching result?\n"
   ]
  },
  {
   "cell_type": "markdown",
   "metadata": {
    "vscode": {
     "languageId": "plaintext"
    }
   },
   "source": [
    "## Answer"
   ]
  },
  {
   "cell_type": "markdown",
   "metadata": {
    "vscode": {
     "languageId": "plaintext"
    }
   },
   "source": [
    "The ID of the top matching result is `b6fa77f3`"
   ]
  },
  {
   "cell_type": "markdown",
   "metadata": {
    "vscode": {
     "languageId": "plaintext"
    }
   },
   "source": [
    "# Submit the results\n",
    "\n",
    "* Submit your results here: https://courses.datatalks.club/llm-zoomcamp-2024/homework/hw5\n",
    "* It's possible that your answers won't match exactly. If it's the case, select the closest one."
   ]
  },
  {
   "cell_type": "markdown",
   "metadata": {
    "vscode": {
     "languageId": "plaintext"
    }
   },
   "source": [
    "# Annex\n",
    "\n",
    "A simple script to do the exercises without Mage\n",
    "\n",
    "```python\n",
    "from elasticsearch import Elasticsearch\n",
    "import os\n",
    "import io\n",
    "import json\n",
    "import requests\n",
    "from tqdm.auto import tqdm\n",
    "import numpy as np\n",
    "import pandas as pd\n",
    "import docx\n",
    "from datetime import datetime\n",
    "\n",
    "\n",
    "def clean_line(line):\n",
    "    line = line.strip()\n",
    "    line = line.strip(\"\\uFEFF\")\n",
    "    return line\n",
    "\n",
    "\n",
    "def read_faq(file_id):\n",
    "    url = f\"https://docs.google.com/document/d/{file_id}/export?format=docx\"\n",
    "\n",
    "    response = requests.get(url)\n",
    "    response.raise_for_status()\n",
    "\n",
    "    with io.BytesIO(response.content) as f_in:\n",
    "        doc = docx.Document(f_in)\n",
    "\n",
    "    questions = []\n",
    "\n",
    "    question_heading_style = \"heading 2\"\n",
    "    section_heading_style = \"heading 1\"\n",
    "\n",
    "    heading_id = \"\"\n",
    "    section_title = \"\"\n",
    "    question_title = \"\"\n",
    "    answer_text_so_far = \"\"\n",
    "\n",
    "    for p in doc.paragraphs:\n",
    "        style = p.style.name.lower()\n",
    "        p_text = clean_line(p.text)\n",
    "\n",
    "        if len(p_text) == 0:\n",
    "            continue\n",
    "\n",
    "        if style == section_heading_style:\n",
    "            section_title = p_text\n",
    "            continue\n",
    "\n",
    "        if style == question_heading_style:\n",
    "            answer_text_so_far = answer_text_so_far.strip()\n",
    "            if (\n",
    "                answer_text_so_far != \"\"\n",
    "                and section_title != \"\"\n",
    "                and question_title != \"\"\n",
    "            ):\n",
    "                questions.append(\n",
    "                    {\n",
    "                        \"text\": answer_text_so_far,\n",
    "                        \"section\": section_title,\n",
    "                        \"question\": question_title,\n",
    "                    }\n",
    "                )\n",
    "                answer_text_so_far = \"\"\n",
    "\n",
    "            question_title = p_text\n",
    "            continue\n",
    "\n",
    "        answer_text_so_far += \"\\n\" + p_text\n",
    "\n",
    "    answer_text_so_far = answer_text_so_far.strip()\n",
    "    if answer_text_so_far != \"\" and section_title != \"\" and question_title != \"\":\n",
    "        questions.append(\n",
    "            {\n",
    "                \"text\": answer_text_so_far,\n",
    "                \"section\": section_title,\n",
    "                \"question\": question_title,\n",
    "            }\n",
    "        )\n",
    "\n",
    "    return questions\n",
    "\n",
    "\n",
    "def load_documents(faq_documents):\n",
    "    documents = []\n",
    "\n",
    "    for course, file_id in faq_documents.items():\n",
    "        print(course)\n",
    "        course_documents = read_faq(file_id)\n",
    "        documents.append({\"course\": course, \"documents\": course_documents})\n",
    "\n",
    "    return documents\n",
    "\n",
    "\n",
    "def generate_document_id(doc):\n",
    "    import hashlib\n",
    "\n",
    "    combined = f\"{doc['course']}-{doc['question']}-{doc['text'][:10]}\"\n",
    "    hash_object = hashlib.md5(combined.encode())\n",
    "    hash_hex = hash_object.hexdigest()\n",
    "    document_id = hash_hex[:8]\n",
    "    return document_id\n",
    "\n",
    "\n",
    "def chunk_documents(data):\n",
    "    documents = []\n",
    "\n",
    "    for doc in data[\"documents\"]:\n",
    "        doc[\"course\"] = data[\"course\"]\n",
    "        # previously we used just \"id\" for document ID\n",
    "        doc[\"document_id\"] = generate_document_id(doc)\n",
    "        documents.append(doc)\n",
    "\n",
    "    print(len(documents))\n",
    "\n",
    "    return documents\n",
    "\n",
    "\n",
    "def main():\n",
    "    documents = load_documents(faq_documents=faq_documents_end)\n",
    "\n",
    "    # Chunk documents\n",
    "    chunked_documents = chunk_documents(data=documents[0])\n",
    "\n",
    "    # Open connection to elasticsearch\n",
    "    es_client = Elasticsearch(\"http://localhost:9200\")\n",
    "    es_client.info()\n",
    "\n",
    "    index_name_prefix = \"documents\"\n",
    "    current_time = datetime.now().strftime(\"%Y%m%d_%M%S\")\n",
    "    index_name = f\"{index_name_prefix}_{current_time}\"\n",
    "    print(\"index name:\", index_name)\n",
    "\n",
    "    number_of_shards = 1\n",
    "    number_of_replicas = 0\n",
    "    vector_column_name = \"embedding\"\n",
    "    dimensions = []\n",
    "\n",
    "    index_settings = {\n",
    "        \"settings\": {\"number_of_shards\": number_of_shards, \"number_of_replicas\": 0},\n",
    "        \"mappings\": {\n",
    "            \"properties\": {\n",
    "                \"text\": {\"type\": \"text\"},\n",
    "                \"section\": {\"type\": \"text\"},\n",
    "                \"question\": {\"type\": \"text\"},\n",
    "                \"course\": {\"type\": \"keyword\"},\n",
    "                \"document_id\": {\"type\": \"keyword\"},\n",
    "            }\n",
    "        },\n",
    "    }\n",
    "\n",
    "    if not es_client.indices.exists(index=index_name):\n",
    "        es_client.indices.create(index=index_name)\n",
    "        print(\"Index created with properties:\", index_settings)\n",
    "        print(\"Embedding dimensions:\", dimensions)\n",
    "\n",
    "    print(\n",
    "        f\"Indexing {len(chunked_documents)} documents to Elasticsearch index {index_name}\"\n",
    "    )\n",
    "    for document in chunked_documents:\n",
    "        print(f'Indexing document {document[\"document_id\"]}')\n",
    "\n",
    "        es_client.index(index=index_name, document=document)\n",
    "        print(document)\n",
    "\n",
    "    # Retrieval\n",
    "    query = \"When is the next cohort?\"\n",
    "\n",
    "    # Search for the question of Q1 using elasticsearch\n",
    "    def elastic_search(query_text: str, index_name: str):\n",
    "        search_query = {\n",
    "            \"size\": 2,\n",
    "            \"query\": {\n",
    "                \"bool\": {\n",
    "                    \"must\": {\n",
    "                        \"multi_match\": {\n",
    "                            \"query\": query_text,\n",
    "                            \"fields\": [\"question\", \"text\"],\n",
    "                            \"type\": \"best_fields\",\n",
    "                        }\n",
    "                    },\n",
    "                }\n",
    "            },\n",
    "        }\n",
    "\n",
    "        es_results = es_client.search(index=index_name, body=search_query)\n",
    "\n",
    "        result_docs = []\n",
    "\n",
    "        for hit in es_results[\"hits\"][\"hits\"]:\n",
    "            result_docs.append(hit[\"_source\"])\n",
    "\n",
    "        return result_docs\n",
    "\n",
    "    search_results = elastic_search(query_text=query, index_name=index_name)\n",
    "    return search_results\n",
    "\n",
    "\n",
    "if __name__ == \"__main__\":\n",
    "    faq_documents_ini = {\n",
    "        \"llm-zoomcamp\": \"1m2KexowAXTmexfC5rVTCSnaShvdUQ8Ag2IEiwBDHxN0\",\n",
    "    }\n",
    "\n",
    "    faq_documents_end = {\n",
    "        \"llm-zoomcamp\": \"1T3MdwUvqCL3jrh3d3VCXQ8xE0UqRzI3bfgpfBq3ZWG0\",\n",
    "    }\n",
    "\n",
    "    search_results_ini = main(faq_documents=faq_documents_ini)\n",
    "    search_results_end = main(faq_documents=faq_documents_end)\n",
    "```"
   ]
  },
  {
   "cell_type": "code",
   "execution_count": null,
   "metadata": {
    "vscode": {
     "languageId": "plaintext"
    }
   },
   "outputs": [],
   "source": []
  }
 ],
 "metadata": {
  "language_info": {
   "name": "python"
  }
 },
 "nbformat": 4,
 "nbformat_minor": 2
}
